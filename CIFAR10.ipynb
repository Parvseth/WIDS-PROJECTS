{
  "cells": [
    {
      "cell_type": "markdown",
      "metadata": {
        "id": "U_ECYtTyriMF"
      },
      "source": [
        "# ***WEEK 2 FOR CIFAR10 DATASET ***\n"
      ]
    },
    {
      "cell_type": "code",
      "execution_count": null,
      "metadata": {
        "colab": {
          "base_uri": "https://localhost:8080/",
          "height": 991
        },
        "id": "p0kMsLaBpVdS",
        "outputId": "31274cb2-0c9c-40e0-8558-7b37def5f59d"
      },
      "outputs": [
        {
          "name": "stdout",
          "output_type": "stream",
          "text": [
            "Downloading https://www.cs.toronto.edu/~kriz/cifar-10-python.tar.gz to ./data/cifar-10-python.tar.gz\n"
          ]
        },
        {
          "name": "stderr",
          "output_type": "stream",
          "text": [
            "100%|██████████| 170498071/170498071 [00:02<00:00, 74600824.27it/s]\n"
          ]
        },
        {
          "name": "stdout",
          "output_type": "stream",
          "text": [
            "Extracting ./data/cifar-10-python.tar.gz to ./data\n",
            "Files already downloaded and verified\n"
          ]
        },
        {
          "data": {
            "image/png": "[encoded data removed]",
            "text/plain": [
              "<Figure size 640x480 with 1 Axes>"
            ]
          },
          "metadata": {},
          "output_type": "display_data"
        },
        {
          "name": "stdout",
          "output_type": "stream",
          "text": [
            "Epoch [1/5], Step [2000/12500], Loss: 2.2934\n",
            "Epoch [1/5], Step [4000/12500], Loss: 2.3054\n",
            "Epoch [1/5], Step [6000/12500], Loss: 2.3047\n",
            "Epoch [1/5], Step [8000/12500], Loss: 2.2938\n",
            "Epoch [1/5], Step [10000/12500], Loss: 2.2908\n",
            "Epoch [1/5], Step [12000/12500], Loss: 2.2171\n",
            "Epoch [2/5], Step [2000/12500], Loss: 2.1653\n",
            "Epoch [2/5], Step [4000/12500], Loss: 2.2310\n",
            "Epoch [2/5], Step [6000/12500], Loss: 1.6564\n",
            "Epoch [2/5], Step [8000/12500], Loss: 1.7383\n",
            "Epoch [2/5], Step [10000/12500], Loss: 2.2331\n",
            "Epoch [2/5], Step [12000/12500], Loss: 2.1928\n",
            "Epoch [3/5], Step [2000/12500], Loss: 2.1783\n",
            "Epoch [3/5], Step [4000/12500], Loss: 1.2532\n",
            "Epoch [3/5], Step [6000/12500], Loss: 1.5638\n",
            "Epoch [3/5], Step [8000/12500], Loss: 1.3634\n",
            "Epoch [3/5], Step [10000/12500], Loss: 1.7180\n",
            "Epoch [3/5], Step [12000/12500], Loss: 1.6127\n",
            "Epoch [4/5], Step [2000/12500], Loss: 1.7005\n",
            "Epoch [4/5], Step [4000/12500], Loss: 1.2837\n",
            "Epoch [4/5], Step [6000/12500], Loss: 3.2891\n",
            "Epoch [4/5], Step [8000/12500], Loss: 2.3283\n",
            "Epoch [4/5], Step [10000/12500], Loss: 1.2757\n",
            "Epoch [4/5], Step [12000/12500], Loss: 0.8808\n",
            "Epoch [5/5], Step [2000/12500], Loss: 1.9947\n",
            "Epoch [5/5], Step [4000/12500], Loss: 1.1009\n",
            "Epoch [5/5], Step [6000/12500], Loss: 1.5990\n",
            "Epoch [5/5], Step [8000/12500], Loss: 0.8602\n",
            "Epoch [5/5], Step [10000/12500], Loss: 0.7226\n",
            "Epoch [5/5], Step [12000/12500], Loss: 2.0607\n",
            "Finished Training\n",
            "Accuracy of the network: 47.86 %\n",
            "Accuracy of plane: 48.3 %\n",
            "Accuracy of car: 80.2 %\n",
            "Accuracy of bird: 25.2 %\n",
            "Accuracy of cat: 24.0 %\n",
            "Accuracy of deer: 17.1 %\n",
            "Accuracy of dog: 48.7 %\n",
            "Accuracy of frog: 74.9 %\n",
            "Accuracy of horse: 61.0 %\n",
            "Accuracy of ship: 57.4 %\n",
            "Accuracy of truck: 41.8 %\n"
          ]
        }
      ],
      "source": [
        "import torch\n",
        "import torch.nn as nn\n",
        "import torch.nn.functional as F\n",
        "import torchvision\n",
        "import torchvision.transforms as transforms\n",
        "import matplotlib.pyplot as plt\n",
        "import numpy as np\n",
        "\n",
        "\n",
        "device = torch.device('cuda' if torch.cuda.is_available() else 'cpu')\n",
        "\n",
        "\n",
        "num_epochs = 5\n",
        "batch_size = 4\n",
        "learning_rate = 0.001\n",
        "\n",
        "transform = transforms.Compose(\n",
        "    [transforms.ToTensor(),\n",
        "     transforms.Normalize((0.5, 0.5, 0.5), (0.5, 0.5, 0.5))])\n",
        "\n",
        "\n",
        "train_dataset = torchvision.datasets.CIFAR10(root='./data', train=True,\n",
        "                                        download=True, transform=transform)\n",
        "\n",
        "test_dataset = torchvision.datasets.CIFAR10(root='./data', train=False,\n",
        "                                       download=True, transform=transform)\n",
        "\n",
        "train_loader = torch.utils.data.DataLoader(train_dataset, batch_size=batch_size,\n",
        "                                          shuffle=True)\n",
        "\n",
        "test_loader = torch.utils.data.DataLoader(test_dataset, batch_size=batch_size,\n",
        "                                         shuffle=False)\n",
        "\n",
        "classes = ('plane', 'car', 'bird', 'cat',\n",
        "           'deer', 'dog', 'frog', 'horse', 'ship', 'truck') #classes included in the CIFAR1O Dataset\n",
        "\n",
        "def imshow(img):\n",
        "    img = img / 2 + 0.5  \n",
        "    npimg = img.numpy()\n",
        "    plt.imshow(np.transpose(npimg, (1, 2, 0)))\n",
        "    plt.show()\n",
        "\n",
        "\n",
        "#getting some random trained images from the dataset\n",
        "dataiter = iter(train_loader)\n",
        "images, labels = next(dataiter)\n",
        "\n",
        "\n",
        "imshow(torchvision.utils.make_grid(images))\n",
        "\n",
        "\n",
        "class ConvNet(nn.Module):\n",
        "    def __init__(self):\n",
        "        super(ConvNet, self).__init__()\n",
        "        self.conv1 = nn.Conv2d(3, 6, 5)\n",
        "        self.pool = nn.MaxPool2d(2, 2)\n",
        "        self.conv2 = nn.Conv2d(6, 16, 5)\n",
        "        self.fc1 = nn.Linear(16 * 5 * 5, 120)\n",
        "        self.fc2 = nn.Linear(120, 84)\n",
        "        self.fc3 = nn.Linear(84, 10)\n",
        "\n",
        "    def forward(self, x):\n",
        "        # -> n, 3, 32, 32\n",
        "        x = self.pool(F.relu(self.conv1(x)))  \n",
        "        x = self.pool(F.relu(self.conv2(x)))  \n",
        "        x = x.view(-1, 16 * 5 * 5)            \n",
        "        x = F.relu(self.fc1(x))               \n",
        "        x = F.relu(self.fc2(x))               \n",
        "        x = self.fc3(x)                       \n",
        "        return x\n",
        "\n",
        "\n",
        "model = ConvNet().to(device)\n",
        "\n",
        "criterion = nn.CrossEntropyLoss()\n",
        "optimizer = torch.optim.SGD(model.parameters(), lr=learning_rate)\n",
        "\n",
        "n_total_steps = len(train_loader)\n",
        "for epoch in range(num_epochs):\n",
        "    for i, (images, labels) in enumerate(train_loader):\n",
        "        # origin shape: [4, 3, 32, 32] = 4, 3, 1024\n",
        "        # input_layer: 3 input channels, 6 output channels, 5 kernel size\n",
        "        images = images.to(device)\n",
        "        labels = labels.to(device)\n",
        "\n",
        "        # Forward pass\n",
        "        outputs = model(images)\n",
        "        loss = criterion(outputs, labels)\n",
        "\n",
        "        \n",
        "        optimizer.zero_grad()\n",
        "        loss.backward()\n",
        "        optimizer.step()\n",
        "\n",
        "        if (i+1) % 2000 == 0:\n",
        "            print (f'Epoch [{epoch+1}/{num_epochs}], Step [{i+1}/{n_total_steps}], Loss: {loss.item():.4f}')\n",
        "\n",
        "print('Finished Training')\n",
        "PATH = './cnn.pth'\n",
        "torch.save(model.state_dict(), PATH)\n",
        "\n",
        "with torch.no_grad():\n",
        "    n_correct = 0\n",
        "    n_samples = 0\n",
        "    n_class_correct = [0 for i in range(10)]\n",
        "    n_class_samples = [0 for i in range(10)]\n",
        "    for images, labels in test_loader:\n",
        "        images = images.to(device)\n",
        "        labels = labels.to(device)\n",
        "        outputs = model(images)\n",
        "        # max returns (value ,index)\n",
        "        _, predicted = torch.max(outputs, 1)\n",
        "        n_samples += labels.size(0)\n",
        "        n_correct += (predicted == labels).sum().item()\n",
        "\n",
        "        for i in range(batch_size):\n",
        "            label = labels[i]\n",
        "            pred = predicted[i]\n",
        "            if (label == pred):\n",
        "                n_class_correct[label] += 1\n",
        "            n_class_samples[label] += 1\n",
        "\n",
        "    acc = 100.0 * n_correct / n_samples #accuracy of our model\n",
        "    print(f'Accuracy of the network: {acc} %')\n",
        "\n",
        "    for i in range(10):\n",
        "        acc = 100.0 * n_class_correct[i] / n_class_samples[i]\n",
        "        print(f'Accuracy of {classes[i]}: {acc} %')"
      ]
    },
    {
      "cell_type": "code",
      "execution_count": null,
      "metadata": {
        "id": "Db_O9Ch_pWNl"
      },
      "outputs": [],
      "source": []
    }
  ],
  "metadata": {
    "colab": {
      "provenance": []
    },
    "kernelspec": {
      "display_name": "Python 3",
      "name": "python3"
    },
    "language_info": {
      "name": "python"
    }
  },
  "nbformat": 4,
  "nbformat_minor": 0
}
